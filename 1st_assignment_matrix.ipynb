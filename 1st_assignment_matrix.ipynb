{
 "cells": [
  {
   "cell_type": "code",
   "execution_count": 2,
   "metadata": {},
   "outputs": [
    {
     "name": "stdout",
     "output_type": "stream",
     "text": [
      "1st_assgnmt_collab.ipynb\n",
      "1st_assignment_intro.ipynb\n",
      "1st_assignment_matrix.ipynb\n",
      "2nd_assignment_collab.ipynb\n",
      "2nd_assignment_intro.ipynb\n",
      "3rd_assignment_evaluation_metrics.ipynb\n",
      "README.md\n",
      "COMMIT_EDITMSG\n",
      "config\n",
      "description\n",
      "FETCH_HEAD\n",
      "HEAD\n",
      "index\n",
      "ORIG_HEAD\n",
      "applypatch-msg.sample\n",
      "commit-msg.sample\n",
      "fsmonitor-watchman.sample\n",
      "post-update.sample\n",
      "pre-applypatch.sample\n",
      "pre-commit.sample\n",
      "pre-push.sample\n",
      "pre-rebase.sample\n",
      "pre-receive.sample\n",
      "prepare-commit-msg.sample\n",
      "update.sample\n",
      "exclude\n",
      "HEAD\n",
      "master\n",
      "master\n",
      "a6f461b1cda82bc2bc64e2f8e752c594cb4b79\n",
      "5889fd52bdb928eb7b8ef26232706c784a7fb1\n",
      "8a81d4f821e4a1d51a8c68599d74959a23bb7d\n",
      "ff03ce761e5a44ccc2b2a825bf574c1bee0631\n",
      "44966c920b4d862ad58a805a0ece2382922184\n",
      "05b0aaa2d7ebb03a3e0fb3d246cda98a5b004a\n",
      "96b16af7d370ec7985b75b69d3af36a913954d\n",
      "2974eb78edd82b431c3690f7464a503c694356\n",
      "2041e1411e121aea1a74646ec651e7c9c954db\n",
      "807046e3874e227078d513b2e90156c2ab1414\n",
      "fdc207848247f45b640d1b9e61f889fd73a974\n",
      "5a1c6f15253eed4ae0e7c623e7d5f649cdd8e4\n",
      "9dd7992c843ab1040b900da7e3335ed0ff5593\n",
      "4eb72f8826545861a52a4848f147bf97669990\n",
      "2edfd2574cdc6b5ee4d4d59f8f97f67da4b8a1\n",
      "668c30a6f4c99ca88cfa10f9b07825f0c3bcc2\n",
      "3263a11bb004b9a0a1505077719a6d38299f13\n",
      "b603904c021c6626dab814b117fa373b6d11b0\n",
      "70b9b5bbb697aded7a051ec9266a39c2ffa99b\n",
      "b49eb28cfab2a46cb953f50d0ded4a99363ca1\n",
      "498597af4392c58b0f8601759186248a25212f\n",
      "a0773950660740e2fb0a2b998f594d0e94d0a1\n",
      "825dc642cb6eb9a060e54bf8d69288fbee4904\n",
      "a0a9f48ddef769ca87ed1c4ae7126542afec5a\n",
      "af158bf04374888dd04f5eedb15ff39a657287\n",
      "e00af6c6be096bf619741ab7ab4b79c70ff10f\n",
      "d0ee1d40c636faa28af4c342a7f0ecb8c72306\n",
      "a9973f75deddf76b9100925004e888cb9de83b\n",
      "e9e87e09cef289f37166a7f2ee352581e858fd\n",
      "c8e9049d75402fa10c9b590d9acdd997d63002\n",
      "ad28c71172e4602ccbae1af973ee1195cf2d1e\n",
      "1b16c06083cb164ea54b1325966d0c0fa4b9f4\n",
      "901fc14d4ae661a2fd00fd37fdb7b7102d4fac\n",
      "57cd63427f07eb262d338d723cb5cbda48bb12\n",
      "0b3a43afdcdb3a000d1ab5cf859c0e1c08d1ed\n",
      "bc61f884fc0470eee67cf94513b13edaa9a968\n",
      "484d3244ff7a26b3e3b7e9571b7a1f3b719909\n",
      "b1b54df24f94fbfa7c4271231ab078aa1b3f31\n",
      "d1c3cba026030a37d70cab4a25db341c55b34b\n",
      "6fd593fadcf5dbdf92232796a2ce03314ed200\n",
      "541d703c3fb453c5699f9d00cd9fd9dbcacc3e\n",
      "58dc7cc943a8f1b9c9905f21af83e7bc8c2555\n",
      "c8c3187bc1703db31697e5fa73397ab7312349\n",
      "232fea9532c906a42d4d85bb444caec8699ce3\n",
      "837e83ec9546cc0d1f20df392256f1de29f8e5\n",
      "bf73727db098465bde3e83fcbe66b932f78882\n",
      "6dd593376250207d2b405ae43b244c89bcbb98\n",
      "2e827df90476e2bc929c2bcea7d2aafc0cdfdc\n",
      "fd04c85783ca80e1780aa299bd1d136a0a1d3e\n",
      "0e1afdb8340b8087719f1e32e9a3b501ec7668\n",
      "bbf9f1214b718401fc8fcadf236bf9199af48d\n",
      "134dbd2f4e92606f13509c05dcaee089188e65\n",
      "8e116f52d37385a391da57fb86cd093cc3deff\n",
      "0ec40590f7b5349ab2c6142772ce2d0260b36a\n",
      "7b827030fbc2b69181509529c3ad3eb90d8b0a\n",
      "a434871a8c96eadb12ae391a31977aabed1b7f\n",
      "b1517b48eacb401437bf1c221ac1ad97d2372e\n",
      "c34867c3c859422cb3f3c0c829b0bc2fd898ff\n",
      "d2ac24573dbc005eaa296a12ede2462ab08fca\n",
      "229188d05d1c1e2b2a5903c085097533eb3037\n",
      "3d5029ccd568fc1aa196cad5b5a12370251c1d\n",
      "ab0fdfd962515bfbef32e602084d11fa4c2c70\n",
      "b1e57ead6a932a5f6648cf387dc0d885733b04\n",
      "44a033f501d79157b5b0466b72f89e4a5b623c\n",
      "cef8b75621f17f11fd61b75ee2008073f1b074\n",
      "454b911888510644690d484998d50136a6079a\n",
      "aad26a88f94b67022c13241f3a699941e9b71d\n",
      "1768a1190fbc7bfb5175f2edf0d289023c490f\n",
      "d48ae14419e4fcbee0c62d9f2065d4470ed329\n",
      "5b464927ac843c3be3f73fbea04510757888a9\n",
      "641f68a84bfe0e2f0f3f6d3fef2fd0b3e802f1\n",
      "1cd051580d772b3c485b2277b722a954406bda\n",
      "a4676f9fc95a296cb38e85d8b8e439be3572b4\n",
      "eb1f6d20a840fef5af4bee62dad9624277acb9\n",
      "a3be4d728619049616662fba98d1a48454cab1\n",
      "008ee33c628a944110e35cf94ea03e14a30a9d\n",
      "944760fb489210564032a020e3304ea258b740\n",
      "8b80417960310e33d532f892dc9d6d355ec7ab\n",
      "54d403343d0e17560df850bf2c503a5e7c0b5f\n",
      "f0df150f4b44951f6b3aa34a8b1d949b16334c\n",
      "d88075474b63547554e71116ecb7fbad8a15ac\n",
      "72b0292a607f403214f1c6d77b49b7add68bfd\n",
      "676a912222a71408971a6a9f2e0b4ee40f5ce0\n",
      "e51974c2cc80fe360cdfabb06b4ae5f5b76868\n",
      "a05d1e2963e7d44ef8b5de49b7f41e11f2c307\n",
      "26bdc962693f85d06e5bfbce23e1828112ca1a\n",
      "master\n",
      "master\n",
      "1st_assgnmt_collab-checkpoint.ipynb\n",
      "1st_assignment-checkpoint.ipynb\n",
      "1st_assignment_intro-checkpoint.ipynb\n",
      "1st_assignment_matrix-checkpoint.ipynb\n",
      "2nd_assignment_collab-checkpoint.ipynb\n",
      "2nd_assignment_intro-checkpoint.ipynb\n",
      "3rd_assignment_evaluation_metrics-checkpoint.ipynb\n",
      "Assignment 2.csv\n",
      "Assignment 2.xls\n",
      "Assignment 5.xls\n",
      "HW1-data.csv\n",
      "items.csv\n",
      "metrics_ev.csv\n",
      "movie_row.csv\n",
      "ratings_2nd.csv\n",
      "users.csv\n",
      "users_row.csv\n",
      "UUCF Assignment Spreadsheet.xls\n",
      "_a558a43e5a83afa526fc4c72e18535cc_Assignment-6.xlsx\n",
      "_ab0ff5bf5d06c09401a1c8c90edd6e41_Metric-SpreadSheet-Assignment.xlsx\n"
     ]
    }
   ],
   "source": [
    "#Imnporting libraries\n",
    "import pandas as pd\n",
    "import numpy as np\n",
    "import os\n",
    "\n",
    "#Listing the existing files in the dir\n",
    "for root, dirs, files in os.walk(\".\"):  \n",
    "    for filename in files:\n",
    "        print(filename)"
   ]
  },
  {
   "cell_type": "code",
   "execution_count": 13,
   "metadata": {},
   "outputs": [],
   "source": [
    "#Loading the datasets\n",
    "users = pd.read_csv('./files/users.csv').set_index('User')\n",
    "items = pd.read_csv('./files/items.csv').set_index('Unnamed: 0')\n",
    "items_set = items.iloc[2:,:16]"
   ]
  },
  {
   "cell_type": "code",
   "execution_count": 23,
   "metadata": {},
   "outputs": [
    {
     "data": {
      "text/plain": [
       "Unnamed: 0\n",
       "14     0.198715\n",
       "680    0.189565\n",
       "24     0.181570\n",
       "275    0.161559\n",
       "38     0.161058\n",
       "Name: 2, dtype: float64"
      ]
     },
     "execution_count": 23,
     "metadata": {},
     "output_type": "execute_result"
    }
   ],
   "source": [
    "frst_feature = items_set.iloc[:,1].sort_values(ascending=False).head(5); frst_feature\n",
    "snd_feature = items_set.iloc[:,2].sort_values(ascending=False).head(5); snd_feature"
   ]
  },
  {
   "cell_type": "markdown",
   "metadata": {},
   "source": [
    "Task: For the first 2 features, provide the top 5 movies for that feature. Only provide the movie IDs.\n",
    "\n",
    "Solution: For the first feature, the top movies are 4327 (0.281990), 414 (0.218089), 3049 (0.190879), 8467 (0.190638) and 854 (0.158601).\n",
    "For the 2nd feature, the top five movies are 14 (0.198715), 680 (0.189565), 24 (0.181570), 275 (0.161559), and 38 (0.161058)."
   ]
  },
  {
   "cell_type": "code",
   "execution_count": 139,
   "metadata": {},
   "outputs": [
    {
     "data": {
      "text/plain": [
       "278    0.201508\n",
       "453    0.177114\n",
       "98     0.167440\n",
       "238    0.166008\n",
       "13     0.164573\n",
       "dtype: float64"
      ]
     },
     "execution_count": 139,
     "metadata": {},
     "output_type": "execute_result"
    }
   ],
   "source": [
    "#Calculating top five movies for user 4469.\n",
    "target = users.loc[4469,:]\n",
    "target_df = pd.DataFrame(target)\n",
    "weight_df = items.iloc[0,:].to_frame(name='Weight').iloc[1:,:].drop('Unnamed: 17').drop('Unnamed: 18')\n",
    "merged = pd.DataFrame(target_df).join(weight_df).join(items_set.T)\n",
    "pred = merged.iloc[:,2:].multiply(merged.iloc[:,0], axis=0).multiply(merged.iloc[:,1], axis=0).sum(axis=0).T.add(merged.iloc[:,0].sum()).sort_values(ascending=False).head(5); pred"
   ]
  },
  {
   "cell_type": "markdown",
   "metadata": {},
   "source": [
    "Task: Compute the top 5 movies for user 4469. Only provide the movie IDs of the 5 recommendations.\n",
    "\n",
    "Solution: Movies 278, 453, 98, 238 and 13 were top five movies for user 4469."
   ]
  }
 ],
 "metadata": {
  "kernelspec": {
   "display_name": "python3.5",
   "language": "python",
   "name": "python3.5"
  },
  "language_info": {
   "codemirror_mode": {
    "name": "ipython",
    "version": 2
   },
   "file_extension": ".py",
   "mimetype": "text/x-python",
   "name": "python",
   "nbconvert_exporter": "python",
   "pygments_lexer": "ipython2",
   "version": "2.7.15"
  }
 },
 "nbformat": 4,
 "nbformat_minor": 2
}
