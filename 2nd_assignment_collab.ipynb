{
 "cells": [
  {
   "cell_type": "code",
   "execution_count": 2,
   "metadata": {},
   "outputs": [
    {
     "name": "stdout",
     "output_type": "stream",
     "text": [
      "1st_assgnmt_collab.ipynb\n",
      "1st_assignment_intro.ipynb\n",
      "2nd_assignment_collab.ipynb\n",
      "2nd_assignment_intro.ipynb\n",
      "README.md\n",
      "sth (2).csv\n",
      "sth.csv\n",
      "COMMIT_EDITMSG\n",
      "config\n",
      "description\n",
      "FETCH_HEAD\n",
      "HEAD\n",
      "index\n",
      "ORIG_HEAD\n",
      "applypatch-msg.sample\n",
      "commit-msg.sample\n",
      "fsmonitor-watchman.sample\n",
      "post-update.sample\n",
      "pre-applypatch.sample\n",
      "pre-commit.sample\n",
      "pre-push.sample\n",
      "pre-rebase.sample\n",
      "pre-receive.sample\n",
      "prepare-commit-msg.sample\n",
      "update.sample\n",
      "exclude\n",
      "HEAD\n",
      "master\n",
      "master\n",
      "5889fd52bdb928eb7b8ef26232706c784a7fb1\n",
      "8a81d4f821e4a1d51a8c68599d74959a23bb7d\n",
      "ff03ce761e5a44ccc2b2a825bf574c1bee0631\n",
      "44966c920b4d862ad58a805a0ece2382922184\n",
      "96b16af7d370ec7985b75b69d3af36a913954d\n",
      "2974eb78edd82b431c3690f7464a503c694356\n",
      "2041e1411e121aea1a74646ec651e7c9c954db\n",
      "fdc207848247f45b640d1b9e61f889fd73a974\n",
      "9dd7992c843ab1040b900da7e3335ed0ff5593\n",
      "4eb72f8826545861a52a4848f147bf97669990\n",
      "2edfd2574cdc6b5ee4d4d59f8f97f67da4b8a1\n",
      "b603904c021c6626dab814b117fa373b6d11b0\n",
      "498597af4392c58b0f8601759186248a25212f\n",
      "a0773950660740e2fb0a2b998f594d0e94d0a1\n",
      "825dc642cb6eb9a060e54bf8d69288fbee4904\n",
      "a0a9f48ddef769ca87ed1c4ae7126542afec5a\n",
      "af158bf04374888dd04f5eedb15ff39a657287\n",
      "e00af6c6be096bf619741ab7ab4b79c70ff10f\n",
      "d0ee1d40c636faa28af4c342a7f0ecb8c72306\n",
      "c8e9049d75402fa10c9b590d9acdd997d63002\n",
      "1b16c06083cb164ea54b1325966d0c0fa4b9f4\n",
      "57cd63427f07eb262d338d723cb5cbda48bb12\n",
      "0b3a43afdcdb3a000d1ab5cf859c0e1c08d1ed\n",
      "bc61f884fc0470eee67cf94513b13edaa9a968\n",
      "b1b54df24f94fbfa7c4271231ab078aa1b3f31\n",
      "d1c3cba026030a37d70cab4a25db341c55b34b\n",
      "6fd593fadcf5dbdf92232796a2ce03314ed200\n",
      "541d703c3fb453c5699f9d00cd9fd9dbcacc3e\n",
      "58dc7cc943a8f1b9c9905f21af83e7bc8c2555\n",
      "c8c3187bc1703db31697e5fa73397ab7312349\n",
      "837e83ec9546cc0d1f20df392256f1de29f8e5\n",
      "bf73727db098465bde3e83fcbe66b932f78882\n",
      "6dd593376250207d2b405ae43b244c89bcbb98\n",
      "fd04c85783ca80e1780aa299bd1d136a0a1d3e\n",
      "bbf9f1214b718401fc8fcadf236bf9199af48d\n",
      "134dbd2f4e92606f13509c05dcaee089188e65\n",
      "8e116f52d37385a391da57fb86cd093cc3deff\n",
      "0ec40590f7b5349ab2c6142772ce2d0260b36a\n",
      "a434871a8c96eadb12ae391a31977aabed1b7f\n",
      "b1517b48eacb401437bf1c221ac1ad97d2372e\n",
      "c34867c3c859422cb3f3c0c829b0bc2fd898ff\n",
      "d2ac24573dbc005eaa296a12ede2462ab08fca\n",
      "3d5029ccd568fc1aa196cad5b5a12370251c1d\n",
      "b1e57ead6a932a5f6648cf387dc0d885733b04\n",
      "1768a1190fbc7bfb5175f2edf0d289023c490f\n",
      "d48ae14419e4fcbee0c62d9f2065d4470ed329\n",
      "5b464927ac843c3be3f73fbea04510757888a9\n",
      "641f68a84bfe0e2f0f3f6d3fef2fd0b3e802f1\n",
      "a4676f9fc95a296cb38e85d8b8e439be3572b4\n",
      "eb1f6d20a840fef5af4bee62dad9624277acb9\n",
      "a3be4d728619049616662fba98d1a48454cab1\n",
      "008ee33c628a944110e35cf94ea03e14a30a9d\n",
      "944760fb489210564032a020e3304ea258b740\n",
      "54d403343d0e17560df850bf2c503a5e7c0b5f\n",
      "f0df150f4b44951f6b3aa34a8b1d949b16334c\n",
      "d88075474b63547554e71116ecb7fbad8a15ac\n",
      "676a912222a71408971a6a9f2e0b4ee40f5ce0\n",
      "e51974c2cc80fe360cdfabb06b4ae5f5b76868\n",
      "a05d1e2963e7d44ef8b5de49b7f41e11f2c307\n",
      "26bdc962693f85d06e5bfbce23e1828112ca1a\n",
      "master\n",
      "master\n",
      "1st_assgnmt_collab-checkpoint.ipynb\n",
      "1st_assignment-checkpoint.ipynb\n",
      "1st_assignment_intro-checkpoint.ipynb\n",
      "2nd_assignment_collab-checkpoint.ipynb\n",
      "2nd_assignment_intro-checkpoint.ipynb\n",
      "Assignment 2.csv\n",
      "Assignment 2.xls\n",
      "Assignment 5.xls\n",
      "HW1-data.csv\n",
      "movie_row.csv\n",
      "ratings_2nd.csv\n",
      "users_row.csv\n",
      "UUCF Assignment Spreadsheet.xls\n"
     ]
    }
   ],
   "source": [
    "#Imnporting libraries\n",
    "import pandas as pd\n",
    "import numpy as np\n",
    "import os\n",
    "from sklearn.metrics.pairwise import cosine_similarity\n",
    "from scipy.spatial.distance import cosine\n",
    "from sklearn.metrics.pairwise import pairwise_distances\n",
    "\n",
    "#Listing the existing files in the dir\n",
    "for root, dirs, files in os.walk(\".\"):  \n",
    "    for filename in files:\n",
    "        print(filename)"
   ]
  },
  {
   "cell_type": "code",
   "execution_count": 3,
   "metadata": {},
   "outputs": [
    {
     "data": {
      "text/plain": [
       "260: Star Wars: Episode IV - A New Hope (1977)             0.747409\n",
       "780: Independence Day (ID4) (1996)                         0.690665\n",
       "296: Pulp Fiction (1994)                                   0.667846\n",
       "318: Shawshank Redemption, The (1994)                      0.667424\n",
       "1265: Groundhog Day (1993)                                 0.661016\n",
       "1210: Star Wars: Episode VI - Return of the Jedi (1983)    0.644995\n",
       "2916: Total Recall (1990)                                  0.623056\n",
       "34: Babe (1995)                                            0.618070\n",
       "3578: Gladiator (2000)                                     0.587852\n",
       "356: Forrest Gump (1994)                                   0.580540\n",
       "593: Silence of the Lambs, The (1991)                      0.570229\n",
       "2028: Saving Private Ryan (1998)                           0.534579\n",
       "2571: Matrix, The (1999)                                   0.505010\n",
       "1259: Stand by Me (1986)                                   0.492659\n",
       "1198: Raiders of the Lost Ark (1981)                       0.466817\n",
       "527: Schindler's List (1993)                               0.463817\n",
       "2762: Sixth Sense, The (1999)                              0.421637\n",
       "541: Blade Runner (1982)                                   0.383067\n",
       "2396: Shakespeare in Love (1998)                           0.376659\n",
       "Mean                                                            NaN\n",
       "Unnamed: 22                                                     NaN\n",
       "Unnamed: 23                                                     NaN\n",
       "dtype: float64"
      ]
     },
     "execution_count": 3,
     "metadata": {},
     "output_type": "execute_result"
    }
   ],
   "source": [
    "items = pd.read_csv('./files/ratings_2nd.csv')\n",
    "items = items.set_index('User')\n",
    "items_set = items.iloc[:20,:20]\n",
    "calc_1 = items_set.multiply(items_set.iloc[:,0],axis=0).sum()\n",
    "items_dist = items.iloc[20]\n",
    "calc_2 = items_dist.multiply(items_dist.iloc[0], axis=0)\n",
    "calc_3 = calc_1 / calc_2; calc_3.drop('1: Toy Story (1995)').sort_values(ascending=False)"
   ]
  },
  {
   "cell_type": "markdown",
   "metadata": {},
   "source": [
    "Task: Provide 5 movies most similar to Toy Story, in decreasing order of similarity using cosine similarity between items using raw (unnormalized) ratings. Only provide the movie ID, not the title.\n",
    "\n",
    "Solution: 260, 780, 296 318, and 1265 are the most similart to Toy Story."
   ]
  },
  {
   "cell_type": "code",
   "execution_count": 248,
   "metadata": {},
   "outputs": [
    {
     "data": {
      "text/plain": [
       "527: Schindler's List (1993)                      2.973883\n",
       "1259: Stand by Me (1986)                          2.928801\n",
       "260: Star Wars: Episode IV - A New Hope (1977)    2.922240\n",
       "593: Silence of the Lambs, The (1991)             2.883304\n",
       "2396: Shakespeare in Love (1998)                  2.852131\n",
       "dtype: float64"
      ]
     },
     "execution_count": 248,
     "metadata": {},
     "output_type": "execute_result"
    }
   ],
   "source": [
    "filled = items_set.fillna(0)\n",
    "#Initiating the empty df\n",
    "movies_sim = pd.DataFrame(index=filled.columns, columns=filled.columns)\n",
    "#Calculating cosine (another apprapproach to the above)\n",
    "num_titles = len(movies_sim.columns)\n",
    "for i in range(0, num_titles):\n",
    "    for j in range(0, num_titles):\n",
    "        movies_sim.iloc[i,j] = 1 - cosine(filled.iloc[:,i], filled.iloc[:,j])  \n",
    "        \n",
    "mask = items_set.notnull()\n",
    "transfered = items_set.mask(mask, movies_sim,axis=1)\n",
    "items_set.multiply(transfered, axis=1)\n",
    "\n",
    "#Figuring out the algorithm on the example of one movie as we know the prediction for user 755\n",
    "test = items_set.loc['755']\n",
    "movies_sim.iloc[0]\n",
    "nom = test.multiply(movies_sim.loc['780: Independence Day (ID4) (1996)']).sum()\n",
    "mask = test.notnull()\n",
    "denom = test.mask(mask, movies_sim.loc['780: Independence Day (ID4) (1996)']).sum()\n",
    "nom/denom\n",
    "\n",
    "#Doing the actual calc\n",
    "target = items_set.loc['5277']\n",
    "merged = pd.DataFrame(target).join(movies_sim)\n",
    "nominator = merged.iloc[:,1:].multiply(merged.iloc[:,0], axis=0).sum()\n",
    "#Replacing those movies that the user has not rated with NaN\n",
    "lst = merged.iloc[:,0][merged.iloc[:,0].isnull()].reset_index().iloc[:,0].tolist()\n",
    "for col in lst:\n",
    "    merged.loc[:,[col]] = np.nan\n",
    "denominator = merged.iloc[:,1:].sum(axis=1)\n",
    "calc = nominator / denominator; calc.sort_values(ascending=False).head(5)\n",
    "#Calculating user and item average\n",
    "#target_user_mean = items_set.mean(axis=1).loc['5277']\n",
    "#user_mean = items_set.mean(axis=1)\n",
    "#items_mean = items_set.mean(axis=0)"
   ]
  },
  {
   "cell_type": "markdown",
   "metadata": {},
   "source": [
    "Task: Provide the top 5 recommended movies for user 5277, using an average of the user’s ratings weighted by similarity to each candidate movie. You do not need to exclude movies they have rated. Consider all movies with nonnegative similarities (do not limit neighborhood size). Similarity between items is estimated using cosine similarity between items using raw (unnormalized) ratings.\n",
    "\n",
    "Solution: The top five movies for user 5277 are 527, 1259, 260, 593 and 2396."
   ]
  },
  {
   "cell_type": "code",
   "execution_count": 306,
   "metadata": {},
   "outputs": [
    {
     "data": {
      "text/plain": [
       "34: Babe (1995)                          0.540738\n",
       "318: Shawshank Redemption, The (1994)    0.387806\n",
       "296: Pulp Fiction (1994)                 0.383212\n",
       "2028: Saving Private Ryan (1998)         0.282144\n",
       "356: Forrest Gump (1994)                 0.272193\n",
       "dtype: float64"
      ]
     },
     "execution_count": 306,
     "metadata": {},
     "output_type": "execute_result"
    }
   ],
   "source": [
    "#Normalizing scores by the item average\n",
    "norm_rating = items_set.subtract(items_mean, axis=1).fillna(0)\n",
    "calc_1 = norm_rating.multiply(norm_rating.iloc[:,0],axis=0).sum()\n",
    "eql_dist = np.sqrt(np.sum(np.square(norm_rating)))\n",
    "calc_2 = eql_dist.multiply(eql_dist.iloc[0], axis=0)\n",
    "calc_3 = calc_1 / calc_2; calc_3.drop('1: Toy Story (1995)').sort_values(ascending=False).head(5)"
   ]
  },
  {
   "cell_type": "markdown",
   "metadata": {},
   "source": [
    "Task: Provide 5 movies most similar to Toy Story, in decreasing order of similarity, by computing item similarities using cosine similarity using adjusted (normalized) ratings. Only provide the movie ID, not the title.\n",
    "\n",
    "Solution: 34, 318, 296, 2028, and 356 are the most similart to Toy Story."
   ]
  },
  {
   "cell_type": "code",
   "execution_count": null,
   "metadata": {},
   "outputs": [],
   "source": []
  },
  {
   "cell_type": "markdown",
   "metadata": {},
   "source": [
    "Task: Provide the top 5 recommended movies for user 5277, using an average of the user’s ratings weighted by similarity to each candidate movie. You do not need to exclude movies they have rated. Consider all movies with nonnegative similarities (do not limit neighborhood size). Similarity between items is estimated using cosine similarity between items using adjusted (normalized) ratings.\n",
    "\n",
    "Solution:"
   ]
  }
 ],
 "metadata": {
  "kernelspec": {
   "display_name": "python3.5",
   "language": "python",
   "name": "python3.5"
  },
  "language_info": {
   "codemirror_mode": {
    "name": "ipython",
    "version": 2
   },
   "file_extension": ".py",
   "mimetype": "text/x-python",
   "name": "python",
   "nbconvert_exporter": "python",
   "pygments_lexer": "ipython2",
   "version": "2.7.15"
  }
 },
 "nbformat": 4,
 "nbformat_minor": 2
}
