{
 "cells": [
  {
   "cell_type": "code",
   "execution_count": 1,
   "metadata": {},
   "outputs": [
    {
     "name": "stdout",
     "output_type": "stream",
     "text": [
      "1st_assignment.ipynb\n",
      "COMMIT_EDITMSG\n",
      "config\n",
      "description\n",
      "FETCH_HEAD\n",
      "HEAD\n",
      "index\n",
      "applypatch-msg.sample\n",
      "commit-msg.sample\n",
      "fsmonitor-watchman.sample\n",
      "post-update.sample\n",
      "pre-applypatch.sample\n",
      "pre-commit.sample\n",
      "pre-push.sample\n",
      "pre-rebase.sample\n",
      "pre-receive.sample\n",
      "prepare-commit-msg.sample\n",
      "update.sample\n",
      "exclude\n",
      "HEAD\n",
      "master\n",
      "master\n",
      "5889fd52bdb928eb7b8ef26232706c784a7fb1\n",
      "b603904c021c6626dab814b117fa373b6d11b0\n",
      "a0773950660740e2fb0a2b998f594d0e94d0a1\n",
      "825dc642cb6eb9a060e54bf8d69288fbee4904\n",
      "a0a9f48ddef769ca87ed1c4ae7126542afec5a\n",
      "57cd63427f07eb262d338d723cb5cbda48bb12\n",
      "6fd593fadcf5dbdf92232796a2ce03314ed200\n",
      "541d703c3fb453c5699f9d00cd9fd9dbcacc3e\n",
      "c8c3187bc1703db31697e5fa73397ab7312349\n",
      "6dd593376250207d2b405ae43b244c89bcbb98\n",
      "5b464927ac843c3be3f73fbea04510757888a9\n",
      "master\n",
      "master\n",
      "1st_assignment-checkpoint.ipynb\n",
      "HW1-data.csv\n"
     ]
    }
   ],
   "source": [
    "#Imnporting libraries\n",
    "import pandas as pd\n",
    "import os\n",
    "\n",
    "#Listing the existing files in the dir\n",
    "for root, dirs, files in os.walk(\".\"):  \n",
    "    for filename in files:\n",
    "        print(filename)"
   ]
  },
  {
   "cell_type": "code",
   "execution_count": 2,
   "metadata": {},
   "outputs": [
    {
     "data": {
      "text/plain": [
       "User                                                        0\n",
       "Gender (1 =F, 0=M)                                          0\n",
       "260: Star Wars: Episode IV - A New Hope (1977)              5\n",
       "1210: Star Wars: Episode VI - Return of the Jedi (1983)     6\n",
       "356: Forrest Gump (1994)                                   10\n",
       "318: Shawshank Redemption, The (1994)                      10\n",
       "593: Silence of the Lambs, The (1991)                       4\n",
       "3578: Gladiator (2000)                                      8\n",
       "1: Toy Story (1995)                                         3\n",
       "2028: Saving Private Ryan (1998)                            9\n",
       "296: Pulp Fiction (1994)                                    9\n",
       "1259: Stand by Me (1986)                                    9\n",
       "2396: Shakespeare in Love (1998)                            9\n",
       "2916: Total Recall (1990)                                   8\n",
       "780: Independence Day (ID4) (1996)                          7\n",
       "541: Blade Runner (1982)                                   11\n",
       "1265: Groundhog Day (1993)                                  8\n",
       "2571: Matrix, The (1999)                                    8\n",
       "527: Schindler's List (1993)                                8\n",
       "2762: Sixth Sense, The (1999)                               8\n",
       "1198: Raiders of the Lost Ark (1981)                        9\n",
       "34: Babe (1995)                                            10\n",
       "dtype: int64"
      ]
     },
     "execution_count": 2,
     "metadata": {},
     "output_type": "execute_result"
    }
   ],
   "source": [
    "#Uploading the dataset\n",
    "df = pd.read_csv('./files/HW1-data.csv')\n",
    "#Getting the sense of the df\n",
    "df.columns\n",
    "df.head()\n",
    "#Checking the # of missing values across the df\n",
    "df.isna().sum()"
   ]
  },
  {
   "cell_type": "code",
   "execution_count": 3,
   "metadata": {},
   "outputs": [
    {
     "data": {
      "text/plain": [
       "318: Shawshank Redemption, The (1994)             3.600000\n",
       "260: Star Wars: Episode IV - A New Hope (1977)    3.266667\n",
       "541: Blade Runner (1982)                          3.222222\n",
       "dtype: float64"
      ]
     },
     "execution_count": 3,
     "metadata": {},
     "output_type": "execute_result"
    }
   ],
   "source": [
    "df_selected = df.drop('Gender (1 =F, 0=M)', axis=1).drop('User', axis=1)\n",
    "df_selected.mean(axis=0).sort_values(ascending=False).head(3)"
   ]
  },
  {
   "cell_type": "code",
   "execution_count": null,
   "metadata": {},
   "outputs": [],
   "source": [
    "Task: Mean Rating: Calculate the mean rating for each movie, order with the highest rating listed first, and submit the top three (along with the mean scores for the top two).\n",
    "Solution: Top three movies by average ranking are: Shawshank Redemption, The (1994) with the mean of 3.6; Star Wars: Episode IV - A New Hope (1977) with the mean of 3.3 and Blade Runner (1982) with the mean of 3.2. "
   ]
  },
  {
   "cell_type": "code",
   "execution_count": null,
   "metadata": {},
   "outputs": [],
   "source": [
    "df_selected.count(axis=0).sort_values(ascending=False).head(3)"
   ]
  },
  {
   "cell_type": "code",
   "execution_count": null,
   "metadata": {},
   "outputs": [],
   "source": [
    "Task: Rating Count (popularity): Count the number of ratings for each movie, order with the most number of ratings first, and submit the top three (along with the counts for the top two). \n",
    "Solution: Toy Story (1995), Silence of the Lambs, The (1991) and Star Wars: Episode IV - A New Hope (1977) were the most popular if the number of times a movie was reviewed is considered to be an indicator of a movie popularity."
   ]
  },
  {
   "cell_type": "code",
   "execution_count": null,
   "metadata": {},
   "outputs": [],
   "source": [
    "#Creating the agg tbl to make sure that the further calculation is correct\n",
    "df_selected.apply(pd.value_counts)"
   ]
  },
  {
   "cell_type": "code",
   "execution_count": 12,
   "metadata": {},
   "outputs": [
    {
     "data": {
      "text/plain": [
       "318: Shawshank Redemption, The (1994)             0.700000\n",
       "260: Star Wars: Episode IV - A New Hope (1977)    0.533333\n",
       "3578: Gladiator (2000)                            0.500000\n",
       "dtype: float64"
      ]
     },
     "execution_count": 12,
     "metadata": {},
     "output_type": "execute_result"
    }
   ],
   "source": [
    "df_four = df_selected.apply(lambda x: x[x>=4]).count(axis=0) / df_selected.apply(lambda x: x).count(axis=0); df_four.sort_values(ascending=False).head(3)"
   ]
  },
  {
   "cell_type": "code",
   "execution_count": null,
   "metadata": {},
   "outputs": [],
   "source": [
    "Task: % of ratings 4+ (liking): Calculate the percentage of ratings for each movie that are 4 or higher. Order with the highest percentage first, and submit the top three (along with the percentage for the top two). Notice that the three different measures of \"best\" reflect different priorities and give different results; this should help you see why you need to be thoughtful about what metrics you use. \n",
    "Solution: Shawshank Redemption, The (1994) (70%), Star Wars: Episode IV - A New Hope (1977) (53%) and  Gladiator (2000) (50%) have the highest percentage of ratings that are 4 or higher."
   ]
  },
  {
   "cell_type": "code",
   "execution_count": null,
   "metadata": {},
   "outputs": [],
   "source": [
    "#maskdf = df_selected.fillna(0).ne('0')\n",
    "#maskdf.Movie1[maskdf.Movie2].mean()"
   ]
  },
  {
   "cell_type": "code",
   "execution_count": null,
   "metadata": {},
   "outputs": [],
   "source": [
    "df_selected[df_selected.columns[1:]].apply(lambda x: x.corr(df_selected['1: Toy Story (1995)'])).sort_values(ascending=False)"
   ]
  },
  {
   "cell_type": "code",
   "execution_count": null,
   "metadata": {},
   "outputs": [],
   "source": [
    "Task: Correlation with Toy Story: Calculate the correlation between the vectors of ratings for Toy Story and each other movie. You can use the built-in CORREL() function. \n",
    "Solution: Shawshank Redemption, The (1994) with 0.89, Babe (1995) with 0.81 and Pulp Fiction (1994) with 0.71 are highly correlated with Toy story."
   ]
  },
  {
   "cell_type": "code",
   "execution_count": null,
   "metadata": {},
   "outputs": [],
   "source": [
    "df_selected_g = df.drop('User', axis=1)\n",
    "df_m = df_selected_g[df_selected_g['Gender (1 =F, 0=M)']==0]\n",
    "df_m_mean = df_m.mean(axis=0).sort_values(ascending=False); df_m\n",
    "df_f = df_selected_g[df_selected_g['Gender (1 =F, 0=M)']!=0]\n",
    "df_f_mean = df_f.mean(axis=0).sort_values(ascending=False); df_f\n",
    "dif_g = df_f_mean - df_m_mean; dif_g.sort_values(ascending=False)"
   ]
  },
  {
   "cell_type": "code",
   "execution_count": null,
   "metadata": {},
   "outputs": [],
   "source": [
    "Task: Mean rating difference by gender: First, recompute the mean rating for each movie separately for males and for females. And calculate the overall mean rating (across all ratings) for males and females. Submit the two movies that have the greatest differences (one where men are most above women, and one where women are most above men) along with the differences in average. Also submit the difference in overall rating averages (female average - male average).\n",
    "Solution: Raiders of the Lost Ark (1981) and Schindler's List (1993) were ranked higher by males than females on average, versus Shakespeare in Love (1998) and Babe (1995) that were on the opposite ranked highest by females. "
   ]
  },
  {
   "cell_type": "code",
   "execution_count": null,
   "metadata": {},
   "outputs": [],
   "source": [
    "df_m_four = df_m.apply(lambda x: x[x>=4]).count(axis=0).sort_values(ascending=False) / len(df_m); df_m_four\n",
    "df_f_four = df_f.apply(lambda x: x[x>=4]).count(axis=0).sort_values(ascending=False) / len(df_f); df_f_four\n",
    "dif_g = df_f_four - df_m_four; dif_g.sort_values(ascending=False)"
   ]
  },
  {
   "cell_type": "code",
   "execution_count": null,
   "metadata": {},
   "outputs": [],
   "source": [
    "Task: Next, compute the % of ratings 4+ separately for males and females. You'll be asked to submit two movies as above (largest difference in each direction). And again you'll indicate whether men or women are more likely to rate movies 4 stars or above.\n",
    "Solution: More men rated Raiders of the Lost Ark (1981) and Matrix, The (1999) as four and above. Women rated Babe (1995) and Forrest Gump (1994) as four and above."
   ]
  }
 ],
 "metadata": {
  "kernelspec": {
   "display_name": "python3.5",
   "language": "python",
   "name": "python3.5"
  },
  "language_info": {
   "codemirror_mode": {
    "name": "ipython",
    "version": 2
   },
   "file_extension": ".py",
   "mimetype": "text/x-python",
   "name": "python",
   "nbconvert_exporter": "python",
   "pygments_lexer": "ipython2",
   "version": "2.7.15"
  }
 },
 "nbformat": 4,
 "nbformat_minor": 2
}
