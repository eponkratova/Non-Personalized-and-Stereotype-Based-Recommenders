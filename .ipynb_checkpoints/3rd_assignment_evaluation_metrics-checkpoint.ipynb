{
 "cells": [
  {
   "cell_type": "code",
   "execution_count": 135,
   "metadata": {},
   "outputs": [
    {
     "name": "stdout",
     "output_type": "stream",
     "text": [
      "1st_assgnmt_collab.ipynb\n",
      "1st_assignment_intro.ipynb\n",
      "2nd_assignment_collab.ipynb\n",
      "2nd_assignment_intro.ipynb\n",
      "3rd_assignment_evaluation_metrics.ipynb\n",
      "README.md\n",
      "COMMIT_EDITMSG\n",
      "config\n",
      "description\n",
      "FETCH_HEAD\n",
      "HEAD\n",
      "index\n",
      "ORIG_HEAD\n",
      "applypatch-msg.sample\n",
      "commit-msg.sample\n",
      "fsmonitor-watchman.sample\n",
      "post-update.sample\n",
      "pre-applypatch.sample\n",
      "pre-commit.sample\n",
      "pre-push.sample\n",
      "pre-rebase.sample\n",
      "pre-receive.sample\n",
      "prepare-commit-msg.sample\n",
      "update.sample\n",
      "exclude\n",
      "HEAD\n",
      "master\n",
      "master\n",
      "a6f461b1cda82bc2bc64e2f8e752c594cb4b79\n",
      "5889fd52bdb928eb7b8ef26232706c784a7fb1\n",
      "8a81d4f821e4a1d51a8c68599d74959a23bb7d\n",
      "ff03ce761e5a44ccc2b2a825bf574c1bee0631\n",
      "44966c920b4d862ad58a805a0ece2382922184\n",
      "05b0aaa2d7ebb03a3e0fb3d246cda98a5b004a\n",
      "96b16af7d370ec7985b75b69d3af36a913954d\n",
      "2974eb78edd82b431c3690f7464a503c694356\n",
      "2041e1411e121aea1a74646ec651e7c9c954db\n",
      "807046e3874e227078d513b2e90156c2ab1414\n",
      "fdc207848247f45b640d1b9e61f889fd73a974\n",
      "9dd7992c843ab1040b900da7e3335ed0ff5593\n",
      "4eb72f8826545861a52a4848f147bf97669990\n",
      "2edfd2574cdc6b5ee4d4d59f8f97f67da4b8a1\n",
      "668c30a6f4c99ca88cfa10f9b07825f0c3bcc2\n",
      "b603904c021c6626dab814b117fa373b6d11b0\n",
      "b49eb28cfab2a46cb953f50d0ded4a99363ca1\n",
      "498597af4392c58b0f8601759186248a25212f\n",
      "a0773950660740e2fb0a2b998f594d0e94d0a1\n",
      "825dc642cb6eb9a060e54bf8d69288fbee4904\n",
      "a0a9f48ddef769ca87ed1c4ae7126542afec5a\n",
      "af158bf04374888dd04f5eedb15ff39a657287\n",
      "e00af6c6be096bf619741ab7ab4b79c70ff10f\n",
      "d0ee1d40c636faa28af4c342a7f0ecb8c72306\n",
      "a9973f75deddf76b9100925004e888cb9de83b\n",
      "e9e87e09cef289f37166a7f2ee352581e858fd\n",
      "c8e9049d75402fa10c9b590d9acdd997d63002\n",
      "ad28c71172e4602ccbae1af973ee1195cf2d1e\n",
      "1b16c06083cb164ea54b1325966d0c0fa4b9f4\n",
      "57cd63427f07eb262d338d723cb5cbda48bb12\n",
      "0b3a43afdcdb3a000d1ab5cf859c0e1c08d1ed\n",
      "bc61f884fc0470eee67cf94513b13edaa9a968\n",
      "484d3244ff7a26b3e3b7e9571b7a1f3b719909\n",
      "b1b54df24f94fbfa7c4271231ab078aa1b3f31\n",
      "d1c3cba026030a37d70cab4a25db341c55b34b\n",
      "6fd593fadcf5dbdf92232796a2ce03314ed200\n",
      "541d703c3fb453c5699f9d00cd9fd9dbcacc3e\n",
      "58dc7cc943a8f1b9c9905f21af83e7bc8c2555\n",
      "c8c3187bc1703db31697e5fa73397ab7312349\n",
      "837e83ec9546cc0d1f20df392256f1de29f8e5\n",
      "bf73727db098465bde3e83fcbe66b932f78882\n",
      "6dd593376250207d2b405ae43b244c89bcbb98\n",
      "fd04c85783ca80e1780aa299bd1d136a0a1d3e\n",
      "bbf9f1214b718401fc8fcadf236bf9199af48d\n",
      "134dbd2f4e92606f13509c05dcaee089188e65\n",
      "8e116f52d37385a391da57fb86cd093cc3deff\n",
      "0ec40590f7b5349ab2c6142772ce2d0260b36a\n",
      "7b827030fbc2b69181509529c3ad3eb90d8b0a\n",
      "a434871a8c96eadb12ae391a31977aabed1b7f\n",
      "b1517b48eacb401437bf1c221ac1ad97d2372e\n",
      "c34867c3c859422cb3f3c0c829b0bc2fd898ff\n",
      "d2ac24573dbc005eaa296a12ede2462ab08fca\n",
      "229188d05d1c1e2b2a5903c085097533eb3037\n",
      "3d5029ccd568fc1aa196cad5b5a12370251c1d\n",
      "ab0fdfd962515bfbef32e602084d11fa4c2c70\n",
      "b1e57ead6a932a5f6648cf387dc0d885733b04\n",
      "44a033f501d79157b5b0466b72f89e4a5b623c\n",
      "cef8b75621f17f11fd61b75ee2008073f1b074\n",
      "aad26a88f94b67022c13241f3a699941e9b71d\n",
      "1768a1190fbc7bfb5175f2edf0d289023c490f\n",
      "d48ae14419e4fcbee0c62d9f2065d4470ed329\n",
      "5b464927ac843c3be3f73fbea04510757888a9\n",
      "641f68a84bfe0e2f0f3f6d3fef2fd0b3e802f1\n",
      "a4676f9fc95a296cb38e85d8b8e439be3572b4\n",
      "eb1f6d20a840fef5af4bee62dad9624277acb9\n",
      "a3be4d728619049616662fba98d1a48454cab1\n",
      "008ee33c628a944110e35cf94ea03e14a30a9d\n",
      "944760fb489210564032a020e3304ea258b740\n",
      "8b80417960310e33d532f892dc9d6d355ec7ab\n",
      "54d403343d0e17560df850bf2c503a5e7c0b5f\n",
      "f0df150f4b44951f6b3aa34a8b1d949b16334c\n",
      "d88075474b63547554e71116ecb7fbad8a15ac\n",
      "676a912222a71408971a6a9f2e0b4ee40f5ce0\n",
      "e51974c2cc80fe360cdfabb06b4ae5f5b76868\n",
      "a05d1e2963e7d44ef8b5de49b7f41e11f2c307\n",
      "26bdc962693f85d06e5bfbce23e1828112ca1a\n",
      "master\n",
      "master\n",
      "1st_assgnmt_collab-checkpoint.ipynb\n",
      "1st_assignment-checkpoint.ipynb\n",
      "1st_assignment_intro-checkpoint.ipynb\n",
      "2nd_assignment_collab-checkpoint.ipynb\n",
      "2nd_assignment_intro-checkpoint.ipynb\n",
      "3rd_assignment_evaluation_metrics-checkpoint.ipynb\n",
      "Assignment 2.csv\n",
      "Assignment 2.xls\n",
      "Assignment 5.xls\n",
      "HW1-data.csv\n",
      "metrics_ev.csv\n",
      "movie_row.csv\n",
      "ratings_2nd.csv\n",
      "users_row.csv\n",
      "UUCF Assignment Spreadsheet.xls\n",
      "_ab0ff5bf5d06c09401a1c8c90edd6e41_Metric-SpreadSheet-Assignment.xlsx\n",
      "~$_ab0ff5bf5d06c09401a1c8c90edd6e41_Metric-SpreadSheet-Assignment.xlsx\n"
     ]
    }
   ],
   "source": [
    "#Importing libraries\n",
    "import pandas as pd\n",
    "import numpy as np\n",
    "import seaborn as sns\n",
    "import matplotlib.pyplot as plt\n",
    "import os\n",
    "\n",
    "#Listing the existing files in the dir\n",
    "for root, dirs, files in os.walk(\".\"):  \n",
    "    for filename in files:\n",
    "        print(filename)"
   ]
  },
  {
   "cell_type": "code",
   "execution_count": 106,
   "metadata": {},
   "outputs": [],
   "source": [
    "df = pd.read_csv('./files/metrics_ev.csv', skiprows=1).set_index('Unnamed: 0')\n",
    "#Subsetting predicted and actual ratings\n",
    "actual = df.iloc[:10,:10].astype(float)\n",
    "predicted = df.iloc[14:24,:10].astype(float)"
   ]
  },
  {
   "cell_type": "code",
   "execution_count": 107,
   "metadata": {},
   "outputs": [
    {
     "data": {
      "text/plain": [
       "Unnamed: 0\n",
       "442     0.677778\n",
       "2492    0.588889\n",
       "2824    0.400000\n",
       "dtype: float64"
      ]
     },
     "execution_count": 107,
     "metadata": {},
     "output_type": "execute_result"
    }
   ],
   "source": [
    "#Calculating mean absolute error per user\n",
    "mae_user = actual.subtract(predicted, axis=1).abs().sum(axis=1).divide(actual.count(axis=1)).sort_values(ascending=False)\n",
    "mae_user.head(3)\n",
    "mae_user.tail(3)"
   ]
  },
  {
   "cell_type": "markdown",
   "metadata": {},
   "source": [
    "Task: Compute the mean absolute error for each user. For example, user 5261 has a mean absolute error of 0.82 (mostly because of a really bad prediction on the Pirates of the Carribean movie). (a) which users have the highest and lowest MAE, and what are those MAE values?\n",
    "\n",
    "Solution: Users 2267 (0.900000), 3556 (0.842857) and 5261 (0.820000) have the highest MAE while users 442 (0.677778), 2492 (0.588889) and 2824 (0.400000) have the lowest MAE."
   ]
  },
  {
   "cell_type": "code",
   "execution_count": 88,
   "metadata": {},
   "outputs": [
    {
     "data": {
      "text/plain": [
       "63: Twelve Monkeys (a.k.a. 12 Monkeys) (1995)                                         0.460000\n",
       "11: Star Wars: Episode IV - A New Hope (1977)                                         0.414286\n",
       "85: Raiders of the Lost Ark (Indiana Jones and the Raiders of the Lost Ark) (1981)    0.380000\n",
       "dtype: float64"
      ]
     },
     "execution_count": 88,
     "metadata": {},
     "output_type": "execute_result"
    }
   ],
   "source": [
    "#Calculating mean absolute error per movie\n",
    "mae_movie = actual.subtract(predicted, axis=0).abs().sum(axis=0).divide(actual.count(axis=0)).sort_values(ascending=False)\n",
    "mae_movie.head(3)\n",
    "mae_movie.tail(3)"
   ]
  },
  {
   "cell_type": "markdown",
   "metadata": {},
   "source": [
    "Task: Also compute the mean absolute error associated with the predictions for each movie. For example, Forrest Gump has an MAE of 0.5. (a) which movies have the highest and lowest MAE, and what are those MAE values?\n",
    "\n",
    "Solution: Movies 12 (1.166667), 22 (1.088889), and 14 (1.020000) have the highest MAE while movies 63 (0.460000), 11 (0.414286) and 85 (0.380000) have the lowest."
   ]
  },
  {
   "cell_type": "code",
   "execution_count": 154,
   "metadata": {},
   "outputs": [
    {
     "data": {
      "text/plain": [
       "0.7316785714285714"
      ]
     },
     "execution_count": 154,
     "metadata": {},
     "output_type": "execute_result"
    }
   ],
   "source": [
    "#Calculating the overal MAE\n",
    "nom = actual.subtract(predicted, axis=0).abs().sum().sum()\n",
    "denom = actual.count().sum()\n",
    "overall = nom / denom\n",
    "#Calculating the overal MAE by user\n",
    "overall_user = mae_user.mean()\n",
    "#Calculating the overal MAE by movie\n",
    "overall_movie = mae_movie.mean()"
   ]
  },
  {
   "cell_type": "markdown",
   "metadata": {},
   "source": [
    "Task: Compute the overall MAE three ways (three decimal places is enough):\n",
    "(a) the normal MAE, which averages over all predictions\n",
    "(b) the by-user MAE, which averages the MAEs of each user\n",
    "(c) the by-movie MAE, which averages the MAEs of each movie\n",
    "\n",
    "Solution: (a) The overall MAE is 0.7246376811594202.\n",
    "(b) The overall MAE by user is 0.731107142857143.\n",
    "(c) The overall MAE by movie is 0.7316785714285714."
   ]
  },
  {
   "cell_type": "code",
   "execution_count": 128,
   "metadata": {},
   "outputs": [
    {
     "data": {
      "text/html": [
       "<div>\n",
       "<style scoped>\n",
       "    .dataframe tbody tr th:only-of-type {\n",
       "        vertical-align: middle;\n",
       "    }\n",
       "\n",
       "    .dataframe tbody tr th {\n",
       "        vertical-align: top;\n",
       "    }\n",
       "\n",
       "    .dataframe thead th {\n",
       "        text-align: right;\n",
       "    }\n",
       "</style>\n",
       "<table border=\"1\" class=\"dataframe\">\n",
       "  <thead>\n",
       "    <tr style=\"text-align: right;\">\n",
       "      <th></th>\n",
       "      <th>mse</th>\n",
       "      <th>rmse</th>\n",
       "    </tr>\n",
       "    <tr>\n",
       "      <th>Unnamed: 0</th>\n",
       "      <th></th>\n",
       "      <th></th>\n",
       "    </tr>\n",
       "  </thead>\n",
       "  <tbody>\n",
       "    <tr>\n",
       "      <th>918</th>\n",
       "      <td>1.470000</td>\n",
       "      <td>1.212436</td>\n",
       "    </tr>\n",
       "    <tr>\n",
       "      <th>5261</th>\n",
       "      <td>1.170000</td>\n",
       "      <td>1.081665</td>\n",
       "    </tr>\n",
       "    <tr>\n",
       "      <th>3556</th>\n",
       "      <td>1.075714</td>\n",
       "      <td>1.037166</td>\n",
       "    </tr>\n",
       "    <tr>\n",
       "      <th>2267</th>\n",
       "      <td>0.995000</td>\n",
       "      <td>0.997497</td>\n",
       "    </tr>\n",
       "    <tr>\n",
       "      <th>860</th>\n",
       "      <td>0.858571</td>\n",
       "      <td>0.926591</td>\n",
       "    </tr>\n",
       "    <tr>\n",
       "      <th>5136</th>\n",
       "      <td>0.791111</td>\n",
       "      <td>0.889444</td>\n",
       "    </tr>\n",
       "    <tr>\n",
       "      <th>442</th>\n",
       "      <td>0.641111</td>\n",
       "      <td>0.800694</td>\n",
       "    </tr>\n",
       "    <tr>\n",
       "      <th>4942</th>\n",
       "      <td>0.613750</td>\n",
       "      <td>0.783422</td>\n",
       "    </tr>\n",
       "    <tr>\n",
       "      <th>2492</th>\n",
       "      <td>0.412222</td>\n",
       "      <td>0.642045</td>\n",
       "    </tr>\n",
       "    <tr>\n",
       "      <th>2824</th>\n",
       "      <td>0.224000</td>\n",
       "      <td>0.473286</td>\n",
       "    </tr>\n",
       "  </tbody>\n",
       "</table>\n",
       "</div>"
      ],
      "text/plain": [
       "                 mse      rmse\n",
       "Unnamed: 0                    \n",
       "918         1.470000  1.212436\n",
       "5261        1.170000  1.081665\n",
       "3556        1.075714  1.037166\n",
       "2267        0.995000  0.997497\n",
       "860         0.858571  0.926591\n",
       "5136        0.791111  0.889444\n",
       "442         0.641111  0.800694\n",
       "4942        0.613750  0.783422\n",
       "2492        0.412222  0.642045\n",
       "2824        0.224000  0.473286"
      ]
     },
     "execution_count": 128,
     "metadata": {},
     "output_type": "execute_result"
    }
   ],
   "source": [
    "#Calculating mean squared errors and root mean square error for each user\n",
    "mse = actual.subtract(predicted, axis=1).apply(lambda x: x ** 2).sum(axis=1).divide(actual.count(axis=1)).sort_values(ascending=False)\n",
    "rmse = np.sqrt(mse)\n",
    "merged = pd.concat([pd.DataFrame(mse), pd.DataFrame(rmse)], axis=1)\n",
    "merged.columns = ['mse','rmse']\n",
    "merged"
   ]
  },
  {
   "cell_type": "markdown",
   "metadata": {},
   "source": [
    "Task: Next, create a matrix with the squared errors (instead of absolute errors), and compute the MSE and RMSE (root-mean-squared-error) for each user. Excel and other spreadsheets have a built-in function SQRT() to compute square roots. Be sure that you are computing the MSE first, then taking the square root (if you take the square root of each error before averaging it, you end up with MAE again). For example, user 5136 has an MSE of 0.7911 and an RMSE of .8894. (a) which users have the highest and lowest RMSE, and what are those RMSE values?\n",
    "\n",
    "Solution: User 918 has the highest RMSE (1.212436) while user 2824 has the lowest (0.473286)."
   ]
  },
  {
   "cell_type": "code",
   "execution_count": 134,
   "metadata": {},
   "outputs": [
    {
     "data": {
      "text/plain": [
       "0.8913432299755174"
      ]
     },
     "execution_count": 134,
     "metadata": {},
     "output_type": "execute_result"
    }
   ],
   "source": [
    "#Calculating overall MSE and RMSE.\n",
    "nom = actual.subtract(predicted, axis=1).apply(lambda x: x ** 2).sum(axis=1).sum()\n",
    "denom = actual.count(axis=1).sum()\n",
    "mse_overall = nom / denom\n",
    "rmse_overall = np.sqrt(mse_overall)\n",
    "rmse_overall"
   ]
  },
  {
   "cell_type": "markdown",
   "metadata": {},
   "source": [
    "Task: Then, compute the overall MSE and RMSE across all predictions (just the normal way, no need to compute by-user or by-movie). Again, remember to average all the squared errors to compute MSE, then take the square root of the MSE to get RMSE.\n",
    "\n",
    "Solution: Overall MSE is 0.7944927536231882 while overall RMSE is 0.8913432299755174."
   ]
  },
  {
   "cell_type": "code",
   "execution_count": 155,
   "metadata": {},
   "outputs": [
    {
     "data": {
      "text/plain": [
       "Unnamed: 0\n",
       "5261    0.920746\n",
       "442     0.774450\n",
       "2267    0.633743\n",
       "918     0.458946\n",
       "2492    0.413615\n",
       "4942    0.347857\n",
       "2824    0.347677\n",
       "5136    0.169813\n",
       "3556   -0.095887\n",
       "860    -0.148181\n",
       "dtype: float64"
      ]
     },
     "execution_count": 155,
     "metadata": {},
     "output_type": "execute_result"
    }
   ],
   "source": [
    "#Estimating correlation between actual and predicted values\n",
    "corr = actual.T.corrwith(predicted.T).sort_values(ascending=False); \n",
    "corr_overall = corr.mean()\n",
    "corr"
   ]
  },
  {
   "cell_type": "markdown",
   "metadata": {},
   "source": [
    "Task: 6. Next, compute the correlation between ratings and predictions using the built-in CORREL() function. First, do this for each user (e.g., the correlation between ratings and predictions for user 5136 is 0.1698 -- only about 17%, and therefore not very good). Then, apply the same correlation to the full matrices.\n",
    "(a) report the top and bottom correlations (the bottom ones may be negative) by user (both user ID and correlation value).\n",
    "(b) report the overall correlation between ratings and predictions.\n",
    "\n",
    "Solution: (a) Top correlation is 0.920746 for user 5261 versus bottom correlation of -0.148181 for 860.\n",
    "(b) The overall correlation between ratings and predictions is 0.382277868831761."
   ]
  }
 ],
 "metadata": {
  "kernelspec": {
   "display_name": "python3.5",
   "language": "python",
   "name": "python3.5"
  },
  "language_info": {
   "codemirror_mode": {
    "name": "ipython",
    "version": 2
   },
   "file_extension": ".py",
   "mimetype": "text/x-python",
   "name": "python",
   "nbconvert_exporter": "python",
   "pygments_lexer": "ipython2",
   "version": "2.7.15"
  }
 },
 "nbformat": 4,
 "nbformat_minor": 2
}
