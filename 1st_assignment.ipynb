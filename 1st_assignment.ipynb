{
 "cells": [
  {
   "cell_type": "code",
   "execution_count": 1,
   "metadata": {},
   "outputs": [
    {
     "name": "stdout",
     "output_type": "stream",
     "text": [
      "1st_assignment.ipynb\n",
      "COMMIT_EDITMSG\n",
      "config\n",
      "description\n",
      "FETCH_HEAD\n",
      "HEAD\n",
      "index\n",
      "applypatch-msg.sample\n",
      "commit-msg.sample\n",
      "fsmonitor-watchman.sample\n",
      "post-update.sample\n",
      "pre-applypatch.sample\n",
      "pre-commit.sample\n",
      "pre-push.sample\n",
      "pre-rebase.sample\n",
      "pre-receive.sample\n",
      "prepare-commit-msg.sample\n",
      "update.sample\n",
      "exclude\n",
      "HEAD\n",
      "master\n",
      "master\n",
      "5889fd52bdb928eb7b8ef26232706c784a7fb1\n",
      "b603904c021c6626dab814b117fa373b6d11b0\n",
      "a0773950660740e2fb0a2b998f594d0e94d0a1\n",
      "825dc642cb6eb9a060e54bf8d69288fbee4904\n",
      "a0a9f48ddef769ca87ed1c4ae7126542afec5a\n",
      "57cd63427f07eb262d338d723cb5cbda48bb12\n",
      "6fd593fadcf5dbdf92232796a2ce03314ed200\n",
      "541d703c3fb453c5699f9d00cd9fd9dbcacc3e\n",
      "c8c3187bc1703db31697e5fa73397ab7312349\n",
      "6dd593376250207d2b405ae43b244c89bcbb98\n",
      "5b464927ac843c3be3f73fbea04510757888a9\n",
      "master\n",
      "master\n",
      "1st_assignment-checkpoint.ipynb\n",
      "HW1-data.csv\n"
     ]
    }
   ],
   "source": [
    "#Imnporting libraries\n",
    "import pandas as pd\n",
    "import os\n",
    "\n",
    "#Listing the existing files in the dir\n",
    "for root, dirs, files in os.walk(\".\"):  \n",
    "    for filename in files:\n",
    "        print(filename)"
   ]
  },
  {
   "cell_type": "code",
   "execution_count": 2,
   "metadata": {},
   "outputs": [
    {
     "data": {
      "text/plain": [
       "User                                                        0\n",
       "Gender (1 =F, 0=M)                                          0\n",
       "260: Star Wars: Episode IV - A New Hope (1977)              5\n",
       "1210: Star Wars: Episode VI - Return of the Jedi (1983)     6\n",
       "356: Forrest Gump (1994)                                   10\n",
       "318: Shawshank Redemption, The (1994)                      10\n",
       "593: Silence of the Lambs, The (1991)                       4\n",
       "3578: Gladiator (2000)                                      8\n",
       "1: Toy Story (1995)                                         3\n",
       "2028: Saving Private Ryan (1998)                            9\n",
       "296: Pulp Fiction (1994)                                    9\n",
       "1259: Stand by Me (1986)                                    9\n",
       "2396: Shakespeare in Love (1998)                            9\n",
       "2916: Total Recall (1990)                                   8\n",
       "780: Independence Day (ID4) (1996)                          7\n",
       "541: Blade Runner (1982)                                   11\n",
       "1265: Groundhog Day (1993)                                  8\n",
       "2571: Matrix, The (1999)                                    8\n",
       "527: Schindler's List (1993)                                8\n",
       "2762: Sixth Sense, The (1999)                               8\n",
       "1198: Raiders of the Lost Ark (1981)                        9\n",
       "34: Babe (1995)                                            10\n",
       "dtype: int64"
      ]
     },
     "execution_count": 2,
     "metadata": {},
     "output_type": "execute_result"
    }
   ],
   "source": [
    "#Uploading the dataset\n",
    "df = pd.read_csv('./files/HW1-data.csv')\n",
    "#Getting the sense of the df\n",
    "df.columns\n",
    "df.head()\n",
    "#Checking the # of missing values across the df\n",
    "df.isna().sum()"
   ]
  },
  {
   "cell_type": "code",
   "execution_count": 3,
   "metadata": {},
   "outputs": [
    {
     "data": {
      "text/plain": [
       "318: Shawshank Redemption, The (1994)             3.600000\n",
       "260: Star Wars: Episode IV - A New Hope (1977)    3.266667\n",
       "541: Blade Runner (1982)                          3.222222\n",
       "dtype: float64"
      ]
     },
     "execution_count": 3,
     "metadata": {},
     "output_type": "execute_result"
    }
   ],
   "source": [
    "df_selected = df.drop('Gender (1 =F, 0=M)', axis=1).drop('User', axis=1)\n",
    "df_selected.mean(axis=0).sort_values(ascending=False).head(3)"
   ]
  },
  {
   "cell_type": "code",
   "execution_count": null,
   "metadata": {},
   "outputs": [],
   "source": [
    "Task: Mean Rating: Calculate the mean rating for each movie, order with the highest rating listed first, and submit the top three (along with the mean scores for the top two).\n",
    "Solution: Top three movies by average ranking are: Shawshank Redemption, The (1994) with the mean of 3.6; Star Wars: Episode IV - A New Hope (1977) with the mean of 3.3 and Blade Runner (1982) with the mean of 3.2. "
   ]
  },
  {
   "cell_type": "code",
   "execution_count": 39,
   "metadata": {},
   "outputs": [
    {
     "data": {
      "text/plain": [
       "1: Toy Story (1995)                               17\n",
       "593: Silence of the Lambs, The (1991)             16\n",
       "260: Star Wars: Episode IV - A New Hope (1977)    15\n",
       "dtype: int64"
      ]
     },
     "execution_count": 39,
     "metadata": {},
     "output_type": "execute_result"
    }
   ],
   "source": [
    "df_selected.count(axis=0).sort_values(ascending=False).head(3)"
   ]
  },
  {
   "cell_type": "code",
   "execution_count": null,
   "metadata": {},
   "outputs": [],
   "source": [
    "Task: Rating Count (popularity): Count the number of ratings for each movie, order with the most number of ratings first, and submit the top three (along with the counts for the top two). \n",
    "Solution: Toy Story (1995), Silence of the Lambs, The (1991) and Star Wars: Episode IV - A New Hope (1977) were the most popular if the number of times a movie was reviewed is considered to be an indicator of a movie popularity."
   ]
  },
  {
   "cell_type": "code",
   "execution_count": 40,
   "metadata": {},
   "outputs": [
    {
     "data": {
      "text/html": [
       "<div>\n",
       "<style scoped>\n",
       "    .dataframe tbody tr th:only-of-type {\n",
       "        vertical-align: middle;\n",
       "    }\n",
       "\n",
       "    .dataframe tbody tr th {\n",
       "        vertical-align: top;\n",
       "    }\n",
       "\n",
       "    .dataframe thead th {\n",
       "        text-align: right;\n",
       "    }\n",
       "</style>\n",
       "<table border=\"1\" class=\"dataframe\">\n",
       "  <thead>\n",
       "    <tr style=\"text-align: right;\">\n",
       "      <th></th>\n",
       "      <th>260: Star Wars: Episode IV - A New Hope (1977)</th>\n",
       "      <th>1210: Star Wars: Episode VI - Return of the Jedi (1983)</th>\n",
       "      <th>356: Forrest Gump (1994)</th>\n",
       "      <th>318: Shawshank Redemption, The (1994)</th>\n",
       "      <th>593: Silence of the Lambs, The (1991)</th>\n",
       "      <th>3578: Gladiator (2000)</th>\n",
       "      <th>1: Toy Story (1995)</th>\n",
       "      <th>2028: Saving Private Ryan (1998)</th>\n",
       "      <th>296: Pulp Fiction (1994)</th>\n",
       "      <th>1259: Stand by Me (1986)</th>\n",
       "      <th>2396: Shakespeare in Love (1998)</th>\n",
       "      <th>2916: Total Recall (1990)</th>\n",
       "      <th>780: Independence Day (ID4) (1996)</th>\n",
       "      <th>541: Blade Runner (1982)</th>\n",
       "      <th>1265: Groundhog Day (1993)</th>\n",
       "      <th>2571: Matrix, The (1999)</th>\n",
       "      <th>527: Schindler's List (1993)</th>\n",
       "      <th>2762: Sixth Sense, The (1999)</th>\n",
       "      <th>1198: Raiders of the Lost Ark (1981)</th>\n",
       "      <th>34: Babe (1995)</th>\n",
       "    </tr>\n",
       "  </thead>\n",
       "  <tbody>\n",
       "    <tr>\n",
       "      <th>1.0</th>\n",
       "      <td>2</td>\n",
       "      <td>3</td>\n",
       "      <td>2</td>\n",
       "      <td>2.0</td>\n",
       "      <td>2</td>\n",
       "      <td>3.0</td>\n",
       "      <td>1</td>\n",
       "      <td>2</td>\n",
       "      <td>1</td>\n",
       "      <td>4</td>\n",
       "      <td>2.0</td>\n",
       "      <td>5.0</td>\n",
       "      <td>2</td>\n",
       "      <td>NaN</td>\n",
       "      <td>2</td>\n",
       "      <td>3</td>\n",
       "      <td>2.0</td>\n",
       "      <td>4</td>\n",
       "      <td>3.0</td>\n",
       "      <td>1</td>\n",
       "    </tr>\n",
       "    <tr>\n",
       "      <th>2.0</th>\n",
       "      <td>3</td>\n",
       "      <td>2</td>\n",
       "      <td>3</td>\n",
       "      <td>1.0</td>\n",
       "      <td>4</td>\n",
       "      <td>3.0</td>\n",
       "      <td>8</td>\n",
       "      <td>2</td>\n",
       "      <td>3</td>\n",
       "      <td>1</td>\n",
       "      <td>3.0</td>\n",
       "      <td>4.0</td>\n",
       "      <td>4</td>\n",
       "      <td>3.0</td>\n",
       "      <td>3</td>\n",
       "      <td>3</td>\n",
       "      <td>4.0</td>\n",
       "      <td>1</td>\n",
       "      <td>1.0</td>\n",
       "      <td>4</td>\n",
       "    </tr>\n",
       "    <tr>\n",
       "      <th>3.0</th>\n",
       "      <td>2</td>\n",
       "      <td>4</td>\n",
       "      <td>2</td>\n",
       "      <td>NaN</td>\n",
       "      <td>3</td>\n",
       "      <td>NaN</td>\n",
       "      <td>2</td>\n",
       "      <td>3</td>\n",
       "      <td>3</td>\n",
       "      <td>2</td>\n",
       "      <td>3.0</td>\n",
       "      <td>2.0</td>\n",
       "      <td>3</td>\n",
       "      <td>2.0</td>\n",
       "      <td>2</td>\n",
       "      <td>1</td>\n",
       "      <td>2.0</td>\n",
       "      <td>3</td>\n",
       "      <td>4.0</td>\n",
       "      <td>1</td>\n",
       "    </tr>\n",
       "    <tr>\n",
       "      <th>4.0</th>\n",
       "      <td>5</td>\n",
       "      <td>2</td>\n",
       "      <td>2</td>\n",
       "      <td>3.0</td>\n",
       "      <td>5</td>\n",
       "      <td>4.0</td>\n",
       "      <td>5</td>\n",
       "      <td>2</td>\n",
       "      <td>3</td>\n",
       "      <td>3</td>\n",
       "      <td>NaN</td>\n",
       "      <td>1.0</td>\n",
       "      <td>3</td>\n",
       "      <td>3.0</td>\n",
       "      <td>1</td>\n",
       "      <td>3</td>\n",
       "      <td>NaN</td>\n",
       "      <td>1</td>\n",
       "      <td>NaN</td>\n",
       "      <td>2</td>\n",
       "    </tr>\n",
       "    <tr>\n",
       "      <th>5.0</th>\n",
       "      <td>3</td>\n",
       "      <td>3</td>\n",
       "      <td>1</td>\n",
       "      <td>4.0</td>\n",
       "      <td>2</td>\n",
       "      <td>2.0</td>\n",
       "      <td>1</td>\n",
       "      <td>2</td>\n",
       "      <td>1</td>\n",
       "      <td>1</td>\n",
       "      <td>3.0</td>\n",
       "      <td>NaN</td>\n",
       "      <td>1</td>\n",
       "      <td>1.0</td>\n",
       "      <td>4</td>\n",
       "      <td>2</td>\n",
       "      <td>4.0</td>\n",
       "      <td>3</td>\n",
       "      <td>3.0</td>\n",
       "      <td>2</td>\n",
       "    </tr>\n",
       "  </tbody>\n",
       "</table>\n",
       "</div>"
      ],
      "text/plain": [
       "     260: Star Wars: Episode IV - A New Hope (1977)  \\\n",
       "1.0                                               2   \n",
       "2.0                                               3   \n",
       "3.0                                               2   \n",
       "4.0                                               5   \n",
       "5.0                                               3   \n",
       "\n",
       "     1210: Star Wars: Episode VI - Return of the Jedi (1983)  \\\n",
       "1.0                                                  3         \n",
       "2.0                                                  2         \n",
       "3.0                                                  4         \n",
       "4.0                                                  2         \n",
       "5.0                                                  3         \n",
       "\n",
       "     356: Forrest Gump (1994)  318: Shawshank Redemption, The (1994)  \\\n",
       "1.0                         2                                    2.0   \n",
       "2.0                         3                                    1.0   \n",
       "3.0                         2                                    NaN   \n",
       "4.0                         2                                    3.0   \n",
       "5.0                         1                                    4.0   \n",
       "\n",
       "     593: Silence of the Lambs, The (1991)  3578: Gladiator (2000)  \\\n",
       "1.0                                      2                     3.0   \n",
       "2.0                                      4                     3.0   \n",
       "3.0                                      3                     NaN   \n",
       "4.0                                      5                     4.0   \n",
       "5.0                                      2                     2.0   \n",
       "\n",
       "     1: Toy Story (1995)  2028: Saving Private Ryan (1998)  \\\n",
       "1.0                    1                                 2   \n",
       "2.0                    8                                 2   \n",
       "3.0                    2                                 3   \n",
       "4.0                    5                                 2   \n",
       "5.0                    1                                 2   \n",
       "\n",
       "     296: Pulp Fiction (1994)  1259: Stand by Me (1986)  \\\n",
       "1.0                         1                         4   \n",
       "2.0                         3                         1   \n",
       "3.0                         3                         2   \n",
       "4.0                         3                         3   \n",
       "5.0                         1                         1   \n",
       "\n",
       "     2396: Shakespeare in Love (1998)  2916: Total Recall (1990)  \\\n",
       "1.0                               2.0                        5.0   \n",
       "2.0                               3.0                        4.0   \n",
       "3.0                               3.0                        2.0   \n",
       "4.0                               NaN                        1.0   \n",
       "5.0                               3.0                        NaN   \n",
       "\n",
       "     780: Independence Day (ID4) (1996)  541: Blade Runner (1982)  \\\n",
       "1.0                                   2                       NaN   \n",
       "2.0                                   4                       3.0   \n",
       "3.0                                   3                       2.0   \n",
       "4.0                                   3                       3.0   \n",
       "5.0                                   1                       1.0   \n",
       "\n",
       "     1265: Groundhog Day (1993)  2571: Matrix, The (1999)  \\\n",
       "1.0                           2                         3   \n",
       "2.0                           3                         3   \n",
       "3.0                           2                         1   \n",
       "4.0                           1                         3   \n",
       "5.0                           4                         2   \n",
       "\n",
       "     527: Schindler's List (1993)  2762: Sixth Sense, The (1999)  \\\n",
       "1.0                           2.0                              4   \n",
       "2.0                           4.0                              1   \n",
       "3.0                           2.0                              3   \n",
       "4.0                           NaN                              1   \n",
       "5.0                           4.0                              3   \n",
       "\n",
       "     1198: Raiders of the Lost Ark (1981)  34: Babe (1995)  \n",
       "1.0                                   3.0                1  \n",
       "2.0                                   1.0                4  \n",
       "3.0                                   4.0                1  \n",
       "4.0                                   NaN                2  \n",
       "5.0                                   3.0                2  "
      ]
     },
     "execution_count": 40,
     "metadata": {},
     "output_type": "execute_result"
    }
   ],
   "source": [
    "#Creating the agg tbl to make sure that the further calculation is correct\n",
    "df_selected.apply(pd.value_counts)"
   ]
  },
  {
   "cell_type": "code",
   "execution_count": 12,
   "metadata": {},
   "outputs": [
    {
     "data": {
      "text/plain": [
       "318: Shawshank Redemption, The (1994)             0.700000\n",
       "260: Star Wars: Episode IV - A New Hope (1977)    0.533333\n",
       "3578: Gladiator (2000)                            0.500000\n",
       "dtype: float64"
      ]
     },
     "execution_count": 12,
     "metadata": {},
     "output_type": "execute_result"
    }
   ],
   "source": [
    "df_four = df_selected.apply(lambda x: x[x>=4]).count(axis=0) / df_selected.apply(lambda x: x).count(axis=0); df_four.sort_values(ascending=False).head(3)"
   ]
  },
  {
   "cell_type": "code",
   "execution_count": null,
   "metadata": {},
   "outputs": [],
   "source": [
    "Task: % of ratings 4+ (liking): Calculate the percentage of ratings for each movie that are 4 or higher. Order with the highest percentage first, and submit the top three (along with the percentage for the top two). Notice that the three different measures of \"best\" reflect different priorities and give different results; this should help you see why you need to be thoughtful about what metrics you use. \n",
    "Solution: Shawshank Redemption, The (1994) (70%), Star Wars: Episode IV - A New Hope (1977) (53%) and  Gladiator (2000) (50%) have the highest percentage of ratings that are 4 or higher."
   ]
  },
  {
   "cell_type": "code",
   "execution_count": null,
   "metadata": {},
   "outputs": [],
   "source": [
    "#maskdf = df_selected.fillna(0).ne('0')\n",
    "#maskdf.Movie1[maskdf.Movie2].mean()"
   ]
  },
  {
   "cell_type": "code",
   "execution_count": 13,
   "metadata": {},
   "outputs": [
    {
     "data": {
      "text/plain": [
       "1: Toy Story (1995)                                        1.000000\n",
       "318: Shawshank Redemption, The (1994)                      0.888523\n",
       "34: Babe (1995)                                            0.811107\n",
       "296: Pulp Fiction (1994)                                   0.709842\n",
       "2028: Saving Private Ryan (1998)                           0.596849\n",
       "356: Forrest Gump (1994)                                   0.522913\n",
       "541: Blade Runner (1982)                                   0.329634\n",
       "3578: Gladiator (2000)                                     0.253396\n",
       "2916: Total Recall (1990)                                  0.163796\n",
       "2396: Shakespeare in Love (1998)                           0.101768\n",
       "1265: Groundhog Day (1993)                                -0.062858\n",
       "780: Independence Day (ID4) (1996)                        -0.069923\n",
       "527: Schindler's List (1993)                              -0.220315\n",
       "2762: Sixth Sense, The (1999)                             -0.245770\n",
       "1198: Raiders of the Lost Ark (1981)                      -0.309067\n",
       "1210: Star Wars: Episode VI - Return of the Jedi (1983)   -0.314504\n",
       "593: Silence of the Lambs, The (1991)                     -0.568258\n",
       "1259: Stand by Me (1986)                                  -0.610300\n",
       "2571: Matrix, The (1999)                                  -0.721995\n",
       "dtype: float64"
      ]
     },
     "execution_count": 13,
     "metadata": {},
     "output_type": "execute_result"
    }
   ],
   "source": [
    "df_selected[df_selected.columns[1:]].apply(lambda x: x.corr(df_selected['1: Toy Story (1995)'])).sort_values(ascending=False)"
   ]
  },
  {
   "cell_type": "code",
   "execution_count": null,
   "metadata": {},
   "outputs": [],
   "source": [
    "Task: Correlation with Toy Story: Calculate the correlation between the vectors of ratings for Toy Story and each other movie. You can use the built-in CORREL() function. \n",
    "Solution: Shawshank Redemption, The (1994) with 0.89, Babe (1995) with 0.81 and Pulp Fiction (1994) with 0.71 are highly correlated with Toy story."
   ]
  },
  {
   "cell_type": "code",
   "execution_count": 14,
   "metadata": {},
   "outputs": [
    {
     "data": {
      "text/plain": [
       "2396: Shakespeare in Love (1998)                           2.107143\n",
       "34: Babe (1995)                                            1.428571\n",
       "296: Pulp Fiction (1994)                                   1.375000\n",
       "1: Toy Story (1995)                                        1.271429\n",
       "Gender (1 =F, 0=M)                                         1.000000\n",
       "356: Forrest Gump (1994)                                   0.750000\n",
       "541: Blade Runner (1982)                                   0.500000\n",
       "318: Shawshank Redemption, The (1994)                      0.400000\n",
       "2762: Sixth Sense, The (1999)                              0.333333\n",
       "260: Star Wars: Episode IV - A New Hope (1977)             0.303571\n",
       "3578: Gladiator (2000)                                     0.166667\n",
       "1210: Star Wars: Episode VI - Return of the Jedi (1983)    0.000000\n",
       "780: Independence Day (ID4) (1996)                        -0.190476\n",
       "2028: Saving Private Ryan (1998)                          -0.392857\n",
       "2916: Total Recall (1990)                                 -0.485714\n",
       "1259: Stand by Me (1986)                                  -0.571429\n",
       "593: Silence of the Lambs, The (1991)                     -0.619048\n",
       "1265: Groundhog Day (1993)                                -0.666667\n",
       "2571: Matrix, The (1999)                                  -0.742857\n",
       "527: Schindler's List (1993)                              -1.000000\n",
       "1198: Raiders of the Lost Ark (1981)                      -1.666667\n",
       "dtype: float64"
      ]
     },
     "execution_count": 14,
     "metadata": {},
     "output_type": "execute_result"
    }
   ],
   "source": [
    "df_selected_g = df.drop('User', axis=1)\n",
    "df_m = df_selected_g[df_selected_g['Gender (1 =F, 0=M)']==0]\n",
    "df_m_mean = df_m.mean(axis=0).sort_values(ascending=False); df_m\n",
    "df_f = df_selected_g[df_selected_g['Gender (1 =F, 0=M)']!=0]\n",
    "df_f_mean = df_f.mean(axis=0).sort_values(ascending=False); df_f\n",
    "dif_g = df_f_mean - df_m_mean; dif_g.sort_values(ascending=False)"
   ]
  },
  {
   "cell_type": "code",
   "execution_count": null,
   "metadata": {},
   "outputs": [],
   "source": [
    "Task: Mean rating difference by gender: First, recompute the mean rating for each movie separately for males and for females. And calculate the overall mean rating (across all ratings) for males and females. Submit the two movies that have the greatest differences (one where men are most above women, and one where women are most above men) along with the differences in average. Also submit the difference in overall rating averages (female average - male average).\n",
    "Solution: Raiders of the Lost Ark (1981) and Schindler's List (1993) were ranked higher by males than females on average, versus Shakespeare in Love (1998) and Babe (1995) that were on the opposite ranked highest by females. "
   ]
  },
  {
   "cell_type": "code",
   "execution_count": 38,
   "metadata": {},
   "outputs": [
    {
     "data": {
      "text/plain": [
       "Gender (1 =F, 0=M)\n",
       "0    2.905512\n",
       "1    2.947368\n",
       "dtype: float64"
      ]
     },
     "execution_count": 38,
     "metadata": {},
     "output_type": "execute_result"
    }
   ],
   "source": [
    "df_selected_g.set_index('Gender (1 =F, 0=M)').stack().groupby(level='Gender (1 =F, 0=M)').mean()"
   ]
  },
  {
   "cell_type": "code",
   "execution_count": null,
   "metadata": {},
   "outputs": [],
   "source": [
    "Task: Identify average rating per a gender\n",
    "Solution: Femaile gave a rating of 2.947368, compared with 2.905512 for males."
   ]
  },
  {
   "cell_type": "code",
   "execution_count": 93,
   "metadata": {},
   "outputs": [
    {
     "data": {
      "text/plain": [
       "2396: Shakespeare in Love (1998)                           0.750000\n",
       "541: Blade Runner (1982)                                   0.750000\n",
       "34: Babe (1995)                                            0.571429\n",
       "356: Forrest Gump (1994)                                   0.500000\n",
       "296: Pulp Fiction (1994)                                   0.380952\n",
       "1210: Star Wars: Episode VI - Return of the Jedi (1983)    0.333333\n",
       "2762: Sixth Sense, The (1999)                              0.333333\n",
       "1: Toy Story (1995)                                        0.321429\n",
       "318: Shawshank Redemption, The (1994)                      0.300000\n",
       "780: Independence Day (ID4) (1996)                         0.166667\n",
       "3578: Gladiator (2000)                                     0.100000\n",
       "2028: Saving Private Ryan (1998)                           0.100000\n",
       "Gender (1 =F, 0=M)                                         0.000000\n",
       "1265: Groundhog Day (1993)                                -0.066667\n",
       "1259: Stand by Me (1986)                                  -0.071429\n",
       "260: Star Wars: Episode IV - A New Hope (1977)            -0.095238\n",
       "593: Silence of the Lambs, The (1991)                     -0.142857\n",
       "2916: Total Recall (1990)                                 -0.200000\n",
       "2571: Matrix, The (1999)                                  -0.200000\n",
       "527: Schindler's List (1993)                              -0.583333\n",
       "1198: Raiders of the Lost Ark (1981)                      -0.600000\n",
       "dtype: float64"
      ]
     },
     "execution_count": 93,
     "metadata": {},
     "output_type": "execute_result"
    }
   ],
   "source": [
    "df_m_four = df_m.apply(lambda x: x[x>=4]).count(axis=0).sort_values(ascending=False) / df_m.apply(lambda x: x).count(axis=0); df_m_four\n",
    "df_f_four = df_f.apply(lambda x: x[x>=4]).count(axis=0).sort_values(ascending=False) / df_f.apply(lambda x: x).count(axis=0); df_f_four\n",
    "dif_g = df_f_four - df_m_four; dif_g.sort_values(ascending=False)"
   ]
  },
  {
   "cell_type": "code",
   "execution_count": null,
   "metadata": {},
   "outputs": [],
   "source": [
    "Task: Next, compute the % of ratings 4+ separately for males and females. You'll be asked to submit two movies as above (largest difference in each direction). And again you'll indicate whether men or women are more likely to rate movies 4 stars or above.\n",
    "Solution: More men rated Raiders of the Lost Ark (1981) as four and above. Women rated Shakespeare in Love (1998) as four and above."
   ]
  }
 ],
 "metadata": {
  "kernelspec": {
   "display_name": "python3.5",
   "language": "python",
   "name": "python3.5"
  },
  "language_info": {
   "codemirror_mode": {
    "name": "ipython",
    "version": 2
   },
   "file_extension": ".py",
   "mimetype": "text/x-python",
   "name": "python",
   "nbconvert_exporter": "python",
   "pygments_lexer": "ipython2",
   "version": "2.7.15"
  }
 },
 "nbformat": 4,
 "nbformat_minor": 2
}
